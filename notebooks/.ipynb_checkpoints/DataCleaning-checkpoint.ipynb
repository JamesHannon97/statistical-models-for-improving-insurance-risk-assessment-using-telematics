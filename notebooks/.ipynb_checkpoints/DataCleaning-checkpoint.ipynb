{
 "cells": [
  {
   "cell_type": "markdown",
   "id": "d9df425b",
   "metadata": {},
   "source": [
    "# Import Libraries"
   ]
  },
  {
   "cell_type": "code",
   "execution_count": 1,
   "id": "21cd8359",
   "metadata": {},
   "outputs": [],
   "source": [
    "import pandas as pd\n",
    "from sklearn.preprocessing import OrdinalEncoder\n",
    "import numpy as np"
   ]
  },
  {
   "cell_type": "markdown",
   "id": "ff48dcda",
   "metadata": {},
   "source": [
    "# Import Data"
   ]
  },
  {
   "cell_type": "code",
   "execution_count": 2,
   "id": "9b72a58b",
   "metadata": {},
   "outputs": [],
   "source": [
    "df = pd.read_csv(\"../data/telematics_original.csv\")"
   ]
  },
  {
   "cell_type": "code",
   "execution_count": 3,
   "id": "237d067d",
   "metadata": {},
   "outputs": [
    {
     "data": {
      "text/html": [
       "<div>\n",
       "<style scoped>\n",
       "    .dataframe tbody tr th:only-of-type {\n",
       "        vertical-align: middle;\n",
       "    }\n",
       "\n",
       "    .dataframe tbody tr th {\n",
       "        vertical-align: top;\n",
       "    }\n",
       "\n",
       "    .dataframe thead th {\n",
       "        text-align: right;\n",
       "    }\n",
       "</style>\n",
       "<table border=\"1\" class=\"dataframe\">\n",
       "  <thead>\n",
       "    <tr style=\"text-align: right;\">\n",
       "      <th></th>\n",
       "      <th>Duration</th>\n",
       "      <th>Insured.age</th>\n",
       "      <th>Insured.sex</th>\n",
       "      <th>Car.age</th>\n",
       "      <th>Marital</th>\n",
       "      <th>Car.use</th>\n",
       "      <th>Credit.score</th>\n",
       "      <th>Region</th>\n",
       "      <th>Annual.miles.drive</th>\n",
       "      <th>Years.noclaims</th>\n",
       "      <th>...</th>\n",
       "      <th>Left.turn.intensity10</th>\n",
       "      <th>Left.turn.intensity11</th>\n",
       "      <th>Left.turn.intensity12</th>\n",
       "      <th>Right.turn.intensity08</th>\n",
       "      <th>Right.turn.intensity09</th>\n",
       "      <th>Right.turn.intensity10</th>\n",
       "      <th>Right.turn.intensity11</th>\n",
       "      <th>Right.turn.intensity12</th>\n",
       "      <th>NB_Claim</th>\n",
       "      <th>AMT_Claim</th>\n",
       "    </tr>\n",
       "  </thead>\n",
       "  <tbody>\n",
       "    <tr>\n",
       "      <th>0</th>\n",
       "      <td>366</td>\n",
       "      <td>45</td>\n",
       "      <td>Male</td>\n",
       "      <td>-1</td>\n",
       "      <td>Married</td>\n",
       "      <td>Commute</td>\n",
       "      <td>609.0</td>\n",
       "      <td>Urban</td>\n",
       "      <td>6213.71</td>\n",
       "      <td>25</td>\n",
       "      <td>...</td>\n",
       "      <td>1.0</td>\n",
       "      <td>0.0</td>\n",
       "      <td>0.0</td>\n",
       "      <td>3.0</td>\n",
       "      <td>1.0</td>\n",
       "      <td>0.0</td>\n",
       "      <td>0.0</td>\n",
       "      <td>0.0</td>\n",
       "      <td>1</td>\n",
       "      <td>5100.171753</td>\n",
       "    </tr>\n",
       "    <tr>\n",
       "      <th>1</th>\n",
       "      <td>182</td>\n",
       "      <td>44</td>\n",
       "      <td>Female</td>\n",
       "      <td>3</td>\n",
       "      <td>Married</td>\n",
       "      <td>Commute</td>\n",
       "      <td>575.0</td>\n",
       "      <td>Urban</td>\n",
       "      <td>12427.42</td>\n",
       "      <td>20</td>\n",
       "      <td>...</td>\n",
       "      <td>58.0</td>\n",
       "      <td>24.0</td>\n",
       "      <td>11.0</td>\n",
       "      <td>1099.0</td>\n",
       "      <td>615.0</td>\n",
       "      <td>219.0</td>\n",
       "      <td>101.0</td>\n",
       "      <td>40.0</td>\n",
       "      <td>1</td>\n",
       "      <td>883.554840</td>\n",
       "    </tr>\n",
       "    <tr>\n",
       "      <th>2</th>\n",
       "      <td>184</td>\n",
       "      <td>48</td>\n",
       "      <td>Female</td>\n",
       "      <td>6</td>\n",
       "      <td>Married</td>\n",
       "      <td>Commute</td>\n",
       "      <td>847.0</td>\n",
       "      <td>Urban</td>\n",
       "      <td>12427.42</td>\n",
       "      <td>14</td>\n",
       "      <td>...</td>\n",
       "      <td>0.0</td>\n",
       "      <td>0.0</td>\n",
       "      <td>0.0</td>\n",
       "      <td>0.0</td>\n",
       "      <td>0.0</td>\n",
       "      <td>0.0</td>\n",
       "      <td>0.0</td>\n",
       "      <td>0.0</td>\n",
       "      <td>0</td>\n",
       "      <td>0.000000</td>\n",
       "    </tr>\n",
       "    <tr>\n",
       "      <th>3</th>\n",
       "      <td>183</td>\n",
       "      <td>71</td>\n",
       "      <td>Male</td>\n",
       "      <td>6</td>\n",
       "      <td>Married</td>\n",
       "      <td>Private</td>\n",
       "      <td>842.0</td>\n",
       "      <td>Urban</td>\n",
       "      <td>6213.71</td>\n",
       "      <td>43</td>\n",
       "      <td>...</td>\n",
       "      <td>0.0</td>\n",
       "      <td>0.0</td>\n",
       "      <td>0.0</td>\n",
       "      <td>0.0</td>\n",
       "      <td>0.0</td>\n",
       "      <td>0.0</td>\n",
       "      <td>0.0</td>\n",
       "      <td>0.0</td>\n",
       "      <td>0</td>\n",
       "      <td>0.000000</td>\n",
       "    </tr>\n",
       "    <tr>\n",
       "      <th>4</th>\n",
       "      <td>183</td>\n",
       "      <td>84</td>\n",
       "      <td>Male</td>\n",
       "      <td>10</td>\n",
       "      <td>Married</td>\n",
       "      <td>Private</td>\n",
       "      <td>856.0</td>\n",
       "      <td>Urban</td>\n",
       "      <td>6213.71</td>\n",
       "      <td>65</td>\n",
       "      <td>...</td>\n",
       "      <td>2.0</td>\n",
       "      <td>0.0</td>\n",
       "      <td>0.0</td>\n",
       "      <td>325.0</td>\n",
       "      <td>111.0</td>\n",
       "      <td>18.0</td>\n",
       "      <td>4.0</td>\n",
       "      <td>2.0</td>\n",
       "      <td>0</td>\n",
       "      <td>0.000000</td>\n",
       "    </tr>\n",
       "  </tbody>\n",
       "</table>\n",
       "<p>5 rows × 52 columns</p>\n",
       "</div>"
      ],
      "text/plain": [
       "   Duration  Insured.age Insured.sex  Car.age  Marital  Car.use  Credit.score  \\\n",
       "0       366           45        Male       -1  Married  Commute         609.0   \n",
       "1       182           44      Female        3  Married  Commute         575.0   \n",
       "2       184           48      Female        6  Married  Commute         847.0   \n",
       "3       183           71        Male        6  Married  Private         842.0   \n",
       "4       183           84        Male       10  Married  Private         856.0   \n",
       "\n",
       "  Region  Annual.miles.drive  Years.noclaims  ...  Left.turn.intensity10  \\\n",
       "0  Urban             6213.71              25  ...                    1.0   \n",
       "1  Urban            12427.42              20  ...                   58.0   \n",
       "2  Urban            12427.42              14  ...                    0.0   \n",
       "3  Urban             6213.71              43  ...                    0.0   \n",
       "4  Urban             6213.71              65  ...                    2.0   \n",
       "\n",
       "   Left.turn.intensity11  Left.turn.intensity12  Right.turn.intensity08  \\\n",
       "0                    0.0                    0.0                     3.0   \n",
       "1                   24.0                   11.0                  1099.0   \n",
       "2                    0.0                    0.0                     0.0   \n",
       "3                    0.0                    0.0                     0.0   \n",
       "4                    0.0                    0.0                   325.0   \n",
       "\n",
       "   Right.turn.intensity09  Right.turn.intensity10  Right.turn.intensity11  \\\n",
       "0                     1.0                     0.0                     0.0   \n",
       "1                   615.0                   219.0                   101.0   \n",
       "2                     0.0                     0.0                     0.0   \n",
       "3                     0.0                     0.0                     0.0   \n",
       "4                   111.0                    18.0                     4.0   \n",
       "\n",
       "   Right.turn.intensity12  NB_Claim    AMT_Claim  \n",
       "0                     0.0         1  5100.171753  \n",
       "1                    40.0         1   883.554840  \n",
       "2                     0.0         0     0.000000  \n",
       "3                     0.0         0     0.000000  \n",
       "4                     2.0         0     0.000000  \n",
       "\n",
       "[5 rows x 52 columns]"
      ]
     },
     "execution_count": 3,
     "metadata": {},
     "output_type": "execute_result"
    }
   ],
   "source": [
    "df.head()"
   ]
  },
  {
   "cell_type": "markdown",
   "id": "2088e5e5",
   "metadata": {},
   "source": [
    "# Data Cleaning"
   ]
  },
  {
   "cell_type": "markdown",
   "id": "15393ff7",
   "metadata": {},
   "source": [
    "- Check for null values"
   ]
  },
  {
   "cell_type": "code",
   "execution_count": 4,
   "id": "ce528fbc",
   "metadata": {},
   "outputs": [
    {
     "data": {
      "text/plain": [
       "False"
      ]
     },
     "execution_count": 4,
     "metadata": {},
     "output_type": "execute_result"
    }
   ],
   "source": [
    "df.isnull().values.any()"
   ]
  },
  {
   "cell_type": "markdown",
   "id": "13673614",
   "metadata": {},
   "source": [
    "- Rename columns\n",
    "  - Pct.drive.rush am to Pct.drive.rush.am \n",
    "  - Pct.drive.rush pm  tp Pct.drive.rush.pm \n",
    "  "
   ]
  },
  {
   "cell_type": "code",
   "execution_count": 5,
   "id": "d9b0cbbb",
   "metadata": {},
   "outputs": [],
   "source": [
    "df.rename(columns={\"Pct.drive.rush am\": \"Pct.drive.rush.am\", \"Pct.drive.rush pm\": \"Pct.drive.rush.pm\"}, inplace=True)"
   ]
  },
  {
   "cell_type": "markdown",
   "id": "b08eb7e5",
   "metadata": {},
   "source": [
    "- Check data types"
   ]
  },
  {
   "cell_type": "code",
   "execution_count": 6,
   "id": "1142bb7b",
   "metadata": {},
   "outputs": [
    {
     "data": {
      "text/plain": [
       "Duration                    int64\n",
       "Insured.age                 int64\n",
       "Insured.sex                object\n",
       "Car.age                     int64\n",
       "Marital                    object\n",
       "Car.use                    object\n",
       "Credit.score              float64\n",
       "Region                     object\n",
       "Annual.miles.drive        float64\n",
       "Years.noclaims              int64\n",
       "Territory                   int64\n",
       "Annual.pct.driven         float64\n",
       "Total.miles.driven        float64\n",
       "Pct.drive.mon             float64\n",
       "Pct.drive.tue             float64\n",
       "Pct.drive.wed             float64\n",
       "Pct.drive.thr             float64\n",
       "Pct.drive.fri             float64\n",
       "Pct.drive.sat             float64\n",
       "Pct.drive.sun             float64\n",
       "Pct.drive.2hrs            float64\n",
       "Pct.drive.3hrs            float64\n",
       "Pct.drive.4hrs            float64\n",
       "Pct.drive.wkday           float64\n",
       "Pct.drive.wkend           float64\n",
       "Pct.drive.rush.am         float64\n",
       "Pct.drive.rush.pm         float64\n",
       "Avgdays.week              float64\n",
       "Accel.06miles             float64\n",
       "Accel.08miles             float64\n",
       "Accel.09miles             float64\n",
       "Accel.11miles             float64\n",
       "Accel.12miles             float64\n",
       "Accel.14miles             float64\n",
       "Brake.06miles             float64\n",
       "Brake.08miles             float64\n",
       "Brake.09miles             float64\n",
       "Brake.11miles             float64\n",
       "Brake.12miles             float64\n",
       "Brake.14miles             float64\n",
       "Left.turn.intensity08     float64\n",
       "Left.turn.intensity09     float64\n",
       "Left.turn.intensity10     float64\n",
       "Left.turn.intensity11     float64\n",
       "Left.turn.intensity12     float64\n",
       "Right.turn.intensity08    float64\n",
       "Right.turn.intensity09    float64\n",
       "Right.turn.intensity10    float64\n",
       "Right.turn.intensity11    float64\n",
       "Right.turn.intensity12    float64\n",
       "NB_Claim                    int64\n",
       "AMT_Claim                 float64\n",
       "dtype: object"
      ]
     },
     "execution_count": 6,
     "metadata": {},
     "output_type": "execute_result"
    }
   ],
   "source": [
    "df.dtypes"
   ]
  },
  {
   "cell_type": "markdown",
   "id": "06f5e7ba",
   "metadata": {},
   "source": [
    "| Continuous | Discrete | Nominal | Ordinal |\n",
    "| :- | :- | :- | :- | \n",
    "| Annual.miles.drive | Duration | Insured.sex | |\n",
    "| Annual.pct.driven | Insured.age | Marital | |\n",
    "| Total.miles.driven | Car.age | Car.use | |\n",
    "| Pct.drive.mon | Credit.score | Region | |\n",
    "| Pct.drive.tue | Years.noclaims | Territory | |\n",
    "| Pct.drive.wed | Accel.06miles | | |\n",
    "| Pct.drive.thr | Accel.08miles | | |\n",
    "| Pct.drive.fri | Accel.09miles | | |\n",
    "| Pct.drive.sat | Accel.11miles | | |\n",
    "| Pct.drive.sun | Accel.12miles | | |\n",
    "| Pct.drive.2hrs | Accel.14miles | | |\n",
    "| Pct.drive.3hrs | Brake.08miles | | |\n",
    "| Pct.drive.4hrs | Brake.09miles | | |\n",
    "| Pct.drive.wkday  | Brake.11miles | | |\n",
    "| Pct.drive.wkend | Brake.12miles | | |\n",
    "| Pct.drive.rush.am | Brake.14miles | | | \n",
    "| Pct.drive.rush.pm | Left.turn.intensity08 | | | \n",
    "| Avgdays.week | Left.turn.intensity09 | | | \n",
    "| | Left.turn.intensity10 | | | \n",
    "| | Left.turn.intensity11 | | | \n",
    "| | Left.turn.intensity12 | | | \n",
    "| | Right.turn.intensity08| | | \n",
    "| | Right.turn.intensity09 | | | \n",
    "| | Right.turn.intensity10 | | | \n",
    "| | Right.turn.intensity11 | | | \n",
    "| | Right.turn.intensity12 | | | \n",
    "\n",
    "| Target | Type |\n",
    "| :- | :- | \n",
    "| NB_Claim | Discrete |\n",
    "| AMT_Claim | Continuous |"
   ]
  },
  {
   "cell_type": "markdown",
   "id": "22acb074",
   "metadata": {},
   "source": [
    "- Change incorrect data types"
   ]
  },
  {
   "cell_type": "code",
   "execution_count": 7,
   "id": "aab25d3f",
   "metadata": {},
   "outputs": [],
   "source": [
    "df[[\"Credit.score\",\"Accel.06miles\",\"Accel.08miles\",\"Accel.09miles\",\"Accel.11miles\",\"Accel.12miles\",\"Accel.14miles\",\"Brake.06miles\",\"Brake.08miles\",\"Brake.09miles\",\"Brake.11miles\",\"Brake.12miles\",\"Brake.14miles\",\"Left.turn.intensity08\",\"Left.turn.intensity09\",\"Left.turn.intensity10\",\"Left.turn.intensity11\",\"Left.turn.intensity12\",\"Right.turn.intensity08\",\"Right.turn.intensity09\",\"Right.turn.intensity10\",\"Right.turn.intensity11\",\"Right.turn.intensity12\"]] = df[[\"Credit.score\",\"Accel.06miles\",\"Accel.08miles\",\"Accel.09miles\",\"Accel.11miles\",\"Accel.12miles\",\"Accel.14miles\",\"Brake.06miles\",\"Brake.08miles\",\"Brake.09miles\",\"Brake.11miles\",\"Brake.12miles\",\"Brake.14miles\",\"Left.turn.intensity08\",\"Left.turn.intensity09\",\"Left.turn.intensity10\",\"Left.turn.intensity11\",\"Left.turn.intensity12\",\"Right.turn.intensity08\",\"Right.turn.intensity09\",\"Right.turn.intensity10\",\"Right.turn.intensity11\",\"Right.turn.intensity12\"]].astype('int64')"
   ]
  },
  {
   "cell_type": "markdown",
   "id": "1234cb42",
   "metadata": {},
   "source": [
    "- Encode data with type object\n",
    "\n",
    "| Insured.sex | Marital | Region | Car.use | \n",
    "| :- | :- | :- | :- | \n",
    "| 0 : Female | 0 : Married | 0 : Rural | 0 : Commercial |\n",
    "| 1 : Male | 1 : Single | 1 : Urban | 1 : Commute |\n",
    "| | | | 2 : Farmer |\n",
    "| | | | 3 : Private |\n"
   ]
  },
  {
   "cell_type": "code",
   "execution_count": 8,
   "id": "1e9e4753",
   "metadata": {},
   "outputs": [
    {
     "data": {
      "text/plain": [
       "[array(['Female', 'Male'], dtype=object),\n",
       " array(['Married', 'Single'], dtype=object),\n",
       " array(['Commercial', 'Commute', 'Farmer', 'Private'], dtype=object),\n",
       " array(['Rural', 'Urban'], dtype=object)]"
      ]
     },
     "execution_count": 8,
     "metadata": {},
     "output_type": "execute_result"
    }
   ],
   "source": [
    "ord_enc = OrdinalEncoder(dtype=\"int64\")\n",
    "df[[\"Insured.sex.nominal\",\"Marital.nominal\",\"Car.use.nominal\",\"Region.nominal\"]] = ord_enc.fit_transform(df[[\"Insured.sex\",\"Marital\",\"Car.use\",\"Region\"]])\n",
    "# Default encoding is alphabetically\n",
    "ord_enc.categories_"
   ]
  },
  {
   "cell_type": "code",
   "execution_count": 9,
   "id": "9106d9a1",
   "metadata": {},
   "outputs": [],
   "source": [
    "# Rename Territory \n",
    "df.rename(columns={\"Territory\": \"Territory.nominal\"}, inplace=True)"
   ]
  },
  {
   "cell_type": "code",
   "execution_count": 10,
   "id": "8e5a41ee",
   "metadata": {},
   "outputs": [],
   "source": [
    "# Change dtype to category\n",
    "# Cannot save and read as csv with this dtype \n",
    "df[[\"Insured.sex.nominal\",\"Marital.nominal\",\"Car.use.nominal\",\"Region.nominal\", \"Territory.nominal\"]] = df[[\"Insured.sex.nominal\",\"Marital.nominal\",\"Car.use.nominal\",\"Region.nominal\", \"Territory.nominal\"]].astype('category')"
   ]
  },
  {
   "cell_type": "code",
   "execution_count": 11,
   "id": "73f85a90",
   "metadata": {},
   "outputs": [
    {
     "data": {
      "text/plain": [
       "Duration                     int64\n",
       "Insured.age                  int64\n",
       "Insured.sex                 object\n",
       "Car.age                      int64\n",
       "Marital                     object\n",
       "Car.use                     object\n",
       "Credit.score                 int64\n",
       "Region                      object\n",
       "Annual.miles.drive         float64\n",
       "Years.noclaims               int64\n",
       "Territory.nominal         category\n",
       "Annual.pct.driven          float64\n",
       "Total.miles.driven         float64\n",
       "Pct.drive.mon              float64\n",
       "Pct.drive.tue              float64\n",
       "Pct.drive.wed              float64\n",
       "Pct.drive.thr              float64\n",
       "Pct.drive.fri              float64\n",
       "Pct.drive.sat              float64\n",
       "Pct.drive.sun              float64\n",
       "Pct.drive.2hrs             float64\n",
       "Pct.drive.3hrs             float64\n",
       "Pct.drive.4hrs             float64\n",
       "Pct.drive.wkday            float64\n",
       "Pct.drive.wkend            float64\n",
       "Pct.drive.rush.am          float64\n",
       "Pct.drive.rush.pm          float64\n",
       "Avgdays.week               float64\n",
       "Accel.06miles                int64\n",
       "Accel.08miles                int64\n",
       "Accel.09miles                int64\n",
       "Accel.11miles                int64\n",
       "Accel.12miles                int64\n",
       "Accel.14miles                int64\n",
       "Brake.06miles                int64\n",
       "Brake.08miles                int64\n",
       "Brake.09miles                int64\n",
       "Brake.11miles                int64\n",
       "Brake.12miles                int64\n",
       "Brake.14miles                int64\n",
       "Left.turn.intensity08        int64\n",
       "Left.turn.intensity09        int64\n",
       "Left.turn.intensity10        int64\n",
       "Left.turn.intensity11        int64\n",
       "Left.turn.intensity12        int64\n",
       "Right.turn.intensity08       int64\n",
       "Right.turn.intensity09       int64\n",
       "Right.turn.intensity10       int64\n",
       "Right.turn.intensity11       int64\n",
       "Right.turn.intensity12       int64\n",
       "NB_Claim                     int64\n",
       "AMT_Claim                  float64\n",
       "Insured.sex.nominal       category\n",
       "Marital.nominal           category\n",
       "Car.use.nominal           category\n",
       "Region.nominal            category\n",
       "dtype: object"
      ]
     },
     "execution_count": 11,
     "metadata": {},
     "output_type": "execute_result"
    }
   ],
   "source": [
    "df.dtypes"
   ]
  },
  {
   "cell_type": "markdown",
   "id": "415f634d",
   "metadata": {},
   "source": [
    "- Drop duplicate columns"
   ]
  },
  {
   "cell_type": "code",
   "execution_count": 12,
   "id": "2efe53f7",
   "metadata": {},
   "outputs": [],
   "source": [
    "df.drop(columns=[\"Insured.sex\", \"Marital\", \"Car.use\", \"Region\"], inplace=True)"
   ]
  },
  {
   "cell_type": "code",
   "execution_count": 13,
   "id": "2738d36f",
   "metadata": {},
   "outputs": [
    {
     "data": {
      "text/html": [
       "<div>\n",
       "<style scoped>\n",
       "    .dataframe tbody tr th:only-of-type {\n",
       "        vertical-align: middle;\n",
       "    }\n",
       "\n",
       "    .dataframe tbody tr th {\n",
       "        vertical-align: top;\n",
       "    }\n",
       "\n",
       "    .dataframe thead th {\n",
       "        text-align: right;\n",
       "    }\n",
       "</style>\n",
       "<table border=\"1\" class=\"dataframe\">\n",
       "  <thead>\n",
       "    <tr style=\"text-align: right;\">\n",
       "      <th></th>\n",
       "      <th>Duration</th>\n",
       "      <th>Insured.age</th>\n",
       "      <th>Car.age</th>\n",
       "      <th>Credit.score</th>\n",
       "      <th>Annual.miles.drive</th>\n",
       "      <th>Years.noclaims</th>\n",
       "      <th>Territory.nominal</th>\n",
       "      <th>Annual.pct.driven</th>\n",
       "      <th>Total.miles.driven</th>\n",
       "      <th>Pct.drive.mon</th>\n",
       "      <th>...</th>\n",
       "      <th>Right.turn.intensity09</th>\n",
       "      <th>Right.turn.intensity10</th>\n",
       "      <th>Right.turn.intensity11</th>\n",
       "      <th>Right.turn.intensity12</th>\n",
       "      <th>NB_Claim</th>\n",
       "      <th>AMT_Claim</th>\n",
       "      <th>Insured.sex.nominal</th>\n",
       "      <th>Marital.nominal</th>\n",
       "      <th>Car.use.nominal</th>\n",
       "      <th>Region.nominal</th>\n",
       "    </tr>\n",
       "  </thead>\n",
       "  <tbody>\n",
       "    <tr>\n",
       "      <th>0</th>\n",
       "      <td>366</td>\n",
       "      <td>45</td>\n",
       "      <td>-1</td>\n",
       "      <td>609</td>\n",
       "      <td>6213.71</td>\n",
       "      <td>25</td>\n",
       "      <td>70</td>\n",
       "      <td>0.849315</td>\n",
       "      <td>8864.376247</td>\n",
       "      <td>0.148070</td>\n",
       "      <td>...</td>\n",
       "      <td>1</td>\n",
       "      <td>0</td>\n",
       "      <td>0</td>\n",
       "      <td>0</td>\n",
       "      <td>1</td>\n",
       "      <td>5100.171753</td>\n",
       "      <td>1</td>\n",
       "      <td>0</td>\n",
       "      <td>1</td>\n",
       "      <td>1</td>\n",
       "    </tr>\n",
       "    <tr>\n",
       "      <th>1</th>\n",
       "      <td>182</td>\n",
       "      <td>44</td>\n",
       "      <td>3</td>\n",
       "      <td>575</td>\n",
       "      <td>12427.42</td>\n",
       "      <td>20</td>\n",
       "      <td>26</td>\n",
       "      <td>0.465753</td>\n",
       "      <td>8092.308208</td>\n",
       "      <td>0.147686</td>\n",
       "      <td>...</td>\n",
       "      <td>615</td>\n",
       "      <td>219</td>\n",
       "      <td>101</td>\n",
       "      <td>40</td>\n",
       "      <td>1</td>\n",
       "      <td>883.554840</td>\n",
       "      <td>0</td>\n",
       "      <td>0</td>\n",
       "      <td>1</td>\n",
       "      <td>1</td>\n",
       "    </tr>\n",
       "    <tr>\n",
       "      <th>2</th>\n",
       "      <td>184</td>\n",
       "      <td>48</td>\n",
       "      <td>6</td>\n",
       "      <td>847</td>\n",
       "      <td>12427.42</td>\n",
       "      <td>14</td>\n",
       "      <td>84</td>\n",
       "      <td>0.520548</td>\n",
       "      <td>3225.832512</td>\n",
       "      <td>0.153735</td>\n",
       "      <td>...</td>\n",
       "      <td>0</td>\n",
       "      <td>0</td>\n",
       "      <td>0</td>\n",
       "      <td>0</td>\n",
       "      <td>0</td>\n",
       "      <td>0.000000</td>\n",
       "      <td>0</td>\n",
       "      <td>0</td>\n",
       "      <td>1</td>\n",
       "      <td>1</td>\n",
       "    </tr>\n",
       "    <tr>\n",
       "      <th>3</th>\n",
       "      <td>183</td>\n",
       "      <td>71</td>\n",
       "      <td>6</td>\n",
       "      <td>842</td>\n",
       "      <td>6213.71</td>\n",
       "      <td>43</td>\n",
       "      <td>30</td>\n",
       "      <td>0.065753</td>\n",
       "      <td>253.024528</td>\n",
       "      <td>0.106702</td>\n",
       "      <td>...</td>\n",
       "      <td>0</td>\n",
       "      <td>0</td>\n",
       "      <td>0</td>\n",
       "      <td>0</td>\n",
       "      <td>0</td>\n",
       "      <td>0.000000</td>\n",
       "      <td>1</td>\n",
       "      <td>0</td>\n",
       "      <td>3</td>\n",
       "      <td>1</td>\n",
       "    </tr>\n",
       "    <tr>\n",
       "      <th>4</th>\n",
       "      <td>183</td>\n",
       "      <td>84</td>\n",
       "      <td>10</td>\n",
       "      <td>856</td>\n",
       "      <td>6213.71</td>\n",
       "      <td>65</td>\n",
       "      <td>70</td>\n",
       "      <td>0.441096</td>\n",
       "      <td>4374.379634</td>\n",
       "      <td>0.123807</td>\n",
       "      <td>...</td>\n",
       "      <td>111</td>\n",
       "      <td>18</td>\n",
       "      <td>4</td>\n",
       "      <td>2</td>\n",
       "      <td>0</td>\n",
       "      <td>0.000000</td>\n",
       "      <td>1</td>\n",
       "      <td>0</td>\n",
       "      <td>3</td>\n",
       "      <td>1</td>\n",
       "    </tr>\n",
       "  </tbody>\n",
       "</table>\n",
       "<p>5 rows × 52 columns</p>\n",
       "</div>"
      ],
      "text/plain": [
       "   Duration  Insured.age  Car.age  Credit.score  Annual.miles.drive  \\\n",
       "0       366           45       -1           609             6213.71   \n",
       "1       182           44        3           575            12427.42   \n",
       "2       184           48        6           847            12427.42   \n",
       "3       183           71        6           842             6213.71   \n",
       "4       183           84       10           856             6213.71   \n",
       "\n",
       "   Years.noclaims Territory.nominal  Annual.pct.driven  Total.miles.driven  \\\n",
       "0              25                70           0.849315         8864.376247   \n",
       "1              20                26           0.465753         8092.308208   \n",
       "2              14                84           0.520548         3225.832512   \n",
       "3              43                30           0.065753          253.024528   \n",
       "4              65                70           0.441096         4374.379634   \n",
       "\n",
       "   Pct.drive.mon  ...  Right.turn.intensity09  Right.turn.intensity10  \\\n",
       "0       0.148070  ...                       1                       0   \n",
       "1       0.147686  ...                     615                     219   \n",
       "2       0.153735  ...                       0                       0   \n",
       "3       0.106702  ...                       0                       0   \n",
       "4       0.123807  ...                     111                      18   \n",
       "\n",
       "   Right.turn.intensity11  Right.turn.intensity12  NB_Claim    AMT_Claim  \\\n",
       "0                       0                       0         1  5100.171753   \n",
       "1                     101                      40         1   883.554840   \n",
       "2                       0                       0         0     0.000000   \n",
       "3                       0                       0         0     0.000000   \n",
       "4                       4                       2         0     0.000000   \n",
       "\n",
       "   Insured.sex.nominal  Marital.nominal  Car.use.nominal  Region.nominal  \n",
       "0                    1                0                1               1  \n",
       "1                    0                0                1               1  \n",
       "2                    0                0                1               1  \n",
       "3                    1                0                3               1  \n",
       "4                    1                0                3               1  \n",
       "\n",
       "[5 rows x 52 columns]"
      ]
     },
     "execution_count": 13,
     "metadata": {},
     "output_type": "execute_result"
    }
   ],
   "source": [
    "df.head()"
   ]
  },
  {
   "cell_type": "markdown",
   "id": "43dc3f71",
   "metadata": {},
   "source": [
    "-  Create new columns"
   ]
  },
  {
   "cell_type": "code",
   "execution_count": 14,
   "id": "e2458f9e",
   "metadata": {},
   "outputs": [],
   "source": [
    "df[\"Pct.drive.rush\"] = df[\"Pct.drive.rush.am\"] + df[\"Pct.drive.rush.pm\"] "
   ]
  },
  {
   "cell_type": "code",
   "execution_count": 16,
   "id": "03af3093",
   "metadata": {},
   "outputs": [],
   "source": [
    "# We could make this a function of Duration instead\n",
    "df[\"Total.days.driven\"] = np.ceil(df[\"Annual.pct.driven\"]*365).astype('int64')"
   ]
  },
  {
   "cell_type": "markdown",
   "id": "0651ff78",
   "metadata": {},
   "source": [
    "# Rename all columnes \n",
    "\n",
    "Needed for R style formula"
   ]
  },
  {
   "cell_type": "code",
   "execution_count": 17,
   "id": "c6028dd1",
   "metadata": {},
   "outputs": [],
   "source": [
    "df.columns = [c.replace(\".\", \"_\") for c in list(df.columns)]"
   ]
  },
  {
   "cell_type": "markdown",
   "id": "573506e0",
   "metadata": {},
   "source": [
    "# Create Claim"
   ]
  },
  {
   "cell_type": "code",
   "execution_count": 18,
   "id": "a6e1cb96",
   "metadata": {},
   "outputs": [],
   "source": [
    "df['Claim'] = (df['NB_Claim']>=1)*1"
   ]
  },
  {
   "cell_type": "markdown",
   "id": "65cd18b4",
   "metadata": {},
   "source": [
    "# Export Data"
   ]
  },
  {
   "cell_type": "code",
   "execution_count": 19,
   "id": "24766ac6",
   "metadata": {},
   "outputs": [],
   "source": [
    "df.to_csv(\"../data/telematics_clean.csv\", index=False)"
   ]
  }
 ],
 "metadata": {
  "kernelspec": {
   "display_name": "telematics_2",
   "language": "python",
   "name": "telematics_2"
  },
  "language_info": {
   "codemirror_mode": {
    "name": "ipython",
    "version": 3
   },
   "file_extension": ".py",
   "mimetype": "text/x-python",
   "name": "python",
   "nbconvert_exporter": "python",
   "pygments_lexer": "ipython3",
   "version": "3.12.3"
  }
 },
 "nbformat": 4,
 "nbformat_minor": 5
}
